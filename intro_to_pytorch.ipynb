{
  "nbformat": 4,
  "nbformat_minor": 0,
  "metadata": {
    "colab": {
      "name": "intro to pytorch.ipynb",
      "provenance": []
    },
    "kernelspec": {
      "name": "python3",
      "display_name": "Python 3"
    }
  },
  "cells": [
    {
      "cell_type": "code",
      "metadata": {
        "id": "NCaRYrUsEaHV"
      },
      "source": [
        "from __future__ import print_function\n",
        "import torch"
      ],
      "execution_count": null,
      "outputs": []
    },
    {
      "cell_type": "markdown",
      "metadata": {
        "id": "_r1kAsPlFYK9"
      },
      "source": [
        "**empty one**"
      ]
    },
    {
      "cell_type": "code",
      "metadata": {
        "id": "7V6K_EITEc3d",
        "outputId": "99014973-6ca5-4ec7-c77a-68cf167fd526",
        "colab": {
          "base_uri": "https://localhost:8080/",
          "height": 102
        }
      },
      "source": [
        "x = torch.empty(5,3)\n",
        "x"
      ],
      "execution_count": null,
      "outputs": [
        {
          "output_type": "execute_result",
          "data": {
            "text/plain": [
              "tensor([[3.3119e-36, 0.0000e+00, 4.2039e-45],\n",
              "        [0.0000e+00, 1.4013e-45, 0.0000e+00],\n",
              "        [8.9773e-33, 1.3563e-19, 2.9514e+29],\n",
              "        [1.2203e-32, 1.3563e-19, 4.5145e+27],\n",
              "        [1.3556e-19, 3.0359e+26, 1.1721e-19]])"
            ]
          },
          "metadata": {
            "tags": []
          },
          "execution_count": 7
        }
      ]
    },
    {
      "cell_type": "code",
      "metadata": {
        "id": "DJ9gyi-eE-cV",
        "outputId": "088861d4-5c83-4c3b-adb3-e42036c54b9e",
        "colab": {
          "base_uri": "https://localhost:8080/",
          "height": 34
        }
      },
      "source": [
        "type(x)"
      ],
      "execution_count": null,
      "outputs": [
        {
          "output_type": "execute_result",
          "data": {
            "text/plain": [
              "torch.Tensor"
            ]
          },
          "metadata": {
            "tags": []
          },
          "execution_count": 4
        }
      ]
    },
    {
      "cell_type": "code",
      "metadata": {
        "id": "sDRh0TnGFBq8",
        "outputId": "3a0a4076-d951-4fe3-ef3f-8656dc07e899",
        "colab": {
          "base_uri": "https://localhost:8080/",
          "height": 34
        }
      },
      "source": [
        "y = torch.empty(3)\n",
        "y"
      ],
      "execution_count": null,
      "outputs": [
        {
          "output_type": "execute_result",
          "data": {
            "text/plain": [
              "tensor([3.3119e-36, 0.0000e+00, 5.3249e-44])"
            ]
          },
          "metadata": {
            "tags": []
          },
          "execution_count": 6
        }
      ]
    },
    {
      "cell_type": "markdown",
      "metadata": {
        "id": "KePVAG-XFf34"
      },
      "source": [
        "**rand one**"
      ]
    },
    {
      "cell_type": "code",
      "metadata": {
        "id": "U_Va6GjLFGZW",
        "outputId": "ecbe8606-54f5-46a6-de74-510384b8fbaf",
        "colab": {
          "base_uri": "https://localhost:8080/",
          "height": 102
        }
      },
      "source": [
        "x_rand = torch.rand(5,3)\n",
        "x_rand"
      ],
      "execution_count": null,
      "outputs": [
        {
          "output_type": "execute_result",
          "data": {
            "text/plain": [
              "tensor([[0.7890, 0.5498, 0.8079],\n",
              "        [0.1525, 0.9650, 0.7478],\n",
              "        [0.5794, 0.1424, 0.4950],\n",
              "        [0.3859, 0.5901, 0.4010],\n",
              "        [0.9648, 0.5159, 0.0696]])"
            ]
          },
          "metadata": {
            "tags": []
          },
          "execution_count": 10
        }
      ]
    },
    {
      "cell_type": "markdown",
      "metadata": {
        "id": "5IGLVBtkF-PW"
      },
      "source": [
        "**zeros one**"
      ]
    },
    {
      "cell_type": "code",
      "metadata": {
        "id": "Qtk4tMIvFhli",
        "outputId": "f69c3d41-5b2c-47a7-b3bf-5179d65cc59c",
        "colab": {
          "base_uri": "https://localhost:8080/",
          "height": 102
        }
      },
      "source": [
        "x_zeros = torch.zeros(5,3, dtype=torch.long)\n",
        "x_zeros"
      ],
      "execution_count": null,
      "outputs": [
        {
          "output_type": "execute_result",
          "data": {
            "text/plain": [
              "tensor([[0, 0, 0],\n",
              "        [0, 0, 0],\n",
              "        [0, 0, 0],\n",
              "        [0, 0, 0],\n",
              "        [0, 0, 0]])"
            ]
          },
          "metadata": {
            "tags": []
          },
          "execution_count": 18
        }
      ]
    },
    {
      "cell_type": "markdown",
      "metadata": {
        "id": "HPdiz_rJH7IJ"
      },
      "source": [
        "**directly from data**"
      ]
    },
    {
      "cell_type": "code",
      "metadata": {
        "id": "8SP2je2YGFkb",
        "outputId": "a99a4d62-c5c2-4aff-c7a1-4af7e60fc56b",
        "colab": {
          "base_uri": "https://localhost:8080/",
          "height": 34
        }
      },
      "source": [
        "x_data = torch.tensor([i**2 for i in range(5)])\n",
        "x_data"
      ],
      "execution_count": null,
      "outputs": [
        {
          "output_type": "execute_result",
          "data": {
            "text/plain": [
              "tensor([ 0,  1,  4,  9, 16])"
            ]
          },
          "metadata": {
            "tags": []
          },
          "execution_count": 24
        }
      ]
    },
    {
      "cell_type": "code",
      "metadata": {
        "id": "qdqu0RDfKMw-",
        "outputId": "b87d7996-5788-4c1d-b951-36c11c45b5de",
        "colab": {
          "base_uri": "https://localhost:8080/",
          "height": 34
        }
      },
      "source": [
        "z = torch.([])\n",
        "z"
      ],
      "execution_count": null,
      "outputs": [
        {
          "output_type": "execute_result",
          "data": {
            "text/plain": [
              "tensor([])"
            ]
          },
          "metadata": {
            "tags": []
          },
          "execution_count": 35
        }
      ]
    },
    {
      "cell_type": "markdown",
      "metadata": {
        "id": "J95a0aliJN0Z"
      },
      "source": [
        "**operators**"
      ]
    },
    {
      "cell_type": "code",
      "metadata": {
        "id": "wcsLe4t7IFYQ",
        "outputId": "046390a7-c444-4965-c667-1792bbf65823",
        "colab": {
          "base_uri": "https://localhost:8080/",
          "height": 102
        }
      },
      "source": [
        "new_x = x_rand + x\n",
        "new_x"
      ],
      "execution_count": null,
      "outputs": [
        {
          "output_type": "execute_result",
          "data": {
            "text/plain": [
              "tensor([[7.8902e-01, 5.4979e-01, 8.0793e-01],\n",
              "        [1.5254e-01, 9.6499e-01, 7.4777e-01],\n",
              "        [5.7941e-01, 1.4239e-01, 2.9514e+29],\n",
              "        [3.8589e-01, 5.9009e-01, 4.5145e+27],\n",
              "        [9.6476e-01, 3.0359e+26, 6.9616e-02]])"
            ]
          },
          "metadata": {
            "tags": []
          },
          "execution_count": 30
        }
      ]
    },
    {
      "cell_type": "code",
      "metadata": {
        "id": "fKxwDJvyJ5WK",
        "outputId": "1c07bc3c-c823-45d6-897c-083c21ab39e5",
        "colab": {
          "base_uri": "https://localhost:8080/",
          "height": 51
        }
      },
      "source": [
        "foo = torch.tensor([i**2 for i in range(5)])\n",
        "bar = torch.tensor([i**4 for i in range(5)])\n",
        "display(foo,bar)"
      ],
      "execution_count": null,
      "outputs": [
        {
          "output_type": "display_data",
          "data": {
            "text/plain": [
              "tensor([ 0,  1,  4,  9, 16])"
            ]
          },
          "metadata": {
            "tags": []
          }
        },
        {
          "output_type": "display_data",
          "data": {
            "text/plain": [
              "tensor([  0,   1,  16,  81, 256])"
            ]
          },
          "metadata": {
            "tags": []
          }
        }
      ]
    },
    {
      "cell_type": "code",
      "metadata": {
        "id": "a_iOEEtoJV3Z",
        "outputId": "4581edf1-975a-4851-9729-286f94421b1f",
        "colab": {
          "base_uri": "https://localhost:8080/",
          "height": 34
        }
      },
      "source": [
        "#in-place bar + foo\n",
        "bar.add_(foo)\n",
        "bar\n",
        "\n",
        "#Any operation that mutates a tensor in-place is post-fixed with an _."
      ],
      "execution_count": null,
      "outputs": [
        {
          "output_type": "execute_result",
          "data": {
            "text/plain": [
              "tensor([  0,   2,  20,  90, 272])"
            ]
          },
          "metadata": {
            "tags": []
          },
          "execution_count": 37
        }
      ]
    },
    {
      "cell_type": "code",
      "metadata": {
        "id": "8ZQyvdpIJvBD"
      },
      "source": [
        ""
      ],
      "execution_count": null,
      "outputs": []
    }
  ]
}