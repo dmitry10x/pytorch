{
  "nbformat": 4,
  "nbformat_minor": 0,
  "metadata": {
    "colab": {
      "name": "pytorch1.ipynb",
      "provenance": [],
      "collapsed_sections": []
    },
    "kernelspec": {
      "name": "python3",
      "display_name": "Python 3"
    }
  },
  "cells": [
    {
      "cell_type": "code",
      "metadata": {
        "id": "wbxERFyHYQNR"
      },
      "source": [
        "import torch"
      ],
      "execution_count": 1,
      "outputs": []
    },
    {
      "cell_type": "code",
      "metadata": {
        "id": "5p0PHTSaYj2u",
        "outputId": "4aac054c-2bd1-4d77-a26b-1a907500785d",
        "colab": {
          "base_uri": "https://localhost:8080/",
          "height": 35
        }
      },
      "source": [
        "torch.__version__"
      ],
      "execution_count": 2,
      "outputs": [
        {
          "output_type": "execute_result",
          "data": {
            "application/vnd.google.colaboratory.intrinsic+json": {
              "type": "string"
            },
            "text/plain": [
              "'1.6.0+cu101'"
            ]
          },
          "metadata": {
            "tags": []
          },
          "execution_count": 2
        }
      ]
    },
    {
      "cell_type": "code",
      "metadata": {
        "id": "85v59aqiYlWr"
      },
      "source": [
        "device = \"cuda\" if torch.cuda.is_available() else \"cpu\" "
      ],
      "execution_count": 3,
      "outputs": []
    },
    {
      "cell_type": "code",
      "metadata": {
        "id": "0Ah3Rl4SZHO5"
      },
      "source": [
        "my_tensor = torch.tensor(\n",
        "    [[1, 2, 3], [4, 5, 6]], dtype=torch.float32, device=device, requires_grad=True\n",
        ")"
      ],
      "execution_count": 4,
      "outputs": []
    },
    {
      "cell_type": "code",
      "metadata": {
        "id": "r9nXos6wZHyE",
        "outputId": "bccc26d0-e4e2-444a-c025-f565ca25374c",
        "colab": {
          "base_uri": "https://localhost:8080/",
          "height": 33
        }
      },
      "source": [
        "torch.arange(\n",
        "    start=0, end=5, step=2\n",
        ") "
      ],
      "execution_count": 7,
      "outputs": [
        {
          "output_type": "execute_result",
          "data": {
            "text/plain": [
              "tensor([0, 2, 4])"
            ]
          },
          "metadata": {
            "tags": []
          },
          "execution_count": 7
        }
      ]
    },
    {
      "cell_type": "code",
      "metadata": {
        "id": "2Afg3MCsalFW",
        "outputId": "d3dc699e-d4cb-439d-98a6-b8b7671e93d9",
        "colab": {
          "base_uri": "https://localhost:8080/",
          "height": 33
        }
      },
      "source": [
        "torch.arange(\n",
        "    start=0, end=5) "
      ],
      "execution_count": 6,
      "outputs": [
        {
          "output_type": "execute_result",
          "data": {
            "text/plain": [
              "tensor([0, 1, 2, 3, 4])"
            ]
          },
          "metadata": {
            "tags": []
          },
          "execution_count": 6
        }
      ]
    },
    {
      "cell_type": "code",
      "metadata": {
        "id": "036kwVjZalBg"
      },
      "source": [
        "torch.arange(11)"
      ],
      "execution_count": null,
      "outputs": []
    },
    {
      "cell_type": "code",
      "metadata": {
        "id": "m9qzKsLJaizW",
        "outputId": "9dbc64b9-3c27-4b4f-c5a6-c044b7cdfc42",
        "colab": {
          "base_uri": "https://localhost:8080/",
          "height": 50
        }
      },
      "source": [
        "torch.linspace(start=0.1, end=1, steps=10) "
      ],
      "execution_count": 9,
      "outputs": [
        {
          "output_type": "execute_result",
          "data": {
            "text/plain": [
              "tensor([0.1000, 0.2000, 0.3000, 0.4000, 0.5000, 0.6000, 0.7000, 0.8000, 0.9000,\n",
              "        1.0000])"
            ]
          },
          "metadata": {
            "tags": []
          },
          "execution_count": 9
        }
      ]
    },
    {
      "cell_type": "code",
      "metadata": {
        "id": "nmvDcsZPboYs"
      },
      "source": [
        "x = torch.arange(\n",
        "    start=0, end=5, step=2\n",
        ") \n",
        "\n",
        "t = torch.arange(\n",
        "    start=5, end=10, step=2\n",
        ") "
      ],
      "execution_count": 43,
      "outputs": []
    },
    {
      "cell_type": "code",
      "metadata": {
        "id": "LS_CYzrRcIMX",
        "outputId": "718102e6-b26a-4332-cf17-9621c8177554",
        "colab": {
          "base_uri": "https://localhost:8080/",
          "height": 50
        }
      },
      "source": [
        "%timeit y = x + t"
      ],
      "execution_count": 45,
      "outputs": [
        {
          "output_type": "stream",
          "text": [
            "The slowest run took 275.98 times longer than the fastest. This could mean that an intermediate result is being cached.\n",
            "100000 loops, best of 3: 2.07 µs per loop\n"
          ],
          "name": "stdout"
        }
      ]
    },
    {
      "cell_type": "code",
      "metadata": {
        "id": "2oP5Oc8ncL-3",
        "outputId": "42103d42-67fa-474a-ab9c-f61635ef8367",
        "colab": {
          "base_uri": "https://localhost:8080/",
          "height": 50
        }
      },
      "source": [
        "%timeit y = x.add_(t)"
      ],
      "execution_count": 46,
      "outputs": [
        {
          "output_type": "stream",
          "text": [
            "The slowest run took 469.74 times longer than the fastest. This could mean that an intermediate result is being cached.\n",
            "1000000 loops, best of 3: 1.26 µs per loop\n"
          ],
          "name": "stdout"
        }
      ]
    },
    {
      "cell_type": "code",
      "metadata": {
        "id": "ZAaUdPIJcTZY",
        "outputId": "3dcf13fa-82cf-4f06-811c-5a328064c29b",
        "colab": {
          "base_uri": "https://localhost:8080/",
          "height": 100
        }
      },
      "source": [
        "m = torch.rand(5,5)\n",
        "m"
      ],
      "execution_count": 49,
      "outputs": [
        {
          "output_type": "execute_result",
          "data": {
            "text/plain": [
              "tensor([[0.7807, 0.2336, 0.8564, 0.1800, 0.0645],\n",
              "        [0.9783, 0.9333, 0.5283, 0.0613, 0.6272],\n",
              "        [0.5813, 0.7514, 0.5999, 0.3992, 0.6454],\n",
              "        [0.8847, 0.3314, 0.4218, 0.6134, 0.7795],\n",
              "        [0.8949, 0.7039, 0.5331, 0.1108, 0.5061]])"
            ]
          },
          "metadata": {
            "tags": []
          },
          "execution_count": 49
        }
      ]
    },
    {
      "cell_type": "code",
      "metadata": {
        "id": "rtyc4hSkmnyk",
        "outputId": "64ee6f0f-1139-4559-9fb7-347520788ee0",
        "colab": {
          "base_uri": "https://localhost:8080/",
          "height": 100
        }
      },
      "source": [
        "m.clamp_(min=0.6)"
      ],
      "execution_count": 50,
      "outputs": [
        {
          "output_type": "execute_result",
          "data": {
            "text/plain": [
              "tensor([[0.7807, 0.6000, 0.8564, 0.6000, 0.6000],\n",
              "        [0.9783, 0.9333, 0.6000, 0.6000, 0.6272],\n",
              "        [0.6000, 0.7514, 0.6000, 0.6000, 0.6454],\n",
              "        [0.8847, 0.6000, 0.6000, 0.6134, 0.7795],\n",
              "        [0.8949, 0.7039, 0.6000, 0.6000, 0.6000]])"
            ]
          },
          "metadata": {
            "tags": []
          },
          "execution_count": 50
        }
      ]
    },
    {
      "cell_type": "code",
      "metadata": {
        "id": "opDVum-tmv1N",
        "outputId": "5c2c9d00-a778-4ab4-c188-317a43973621",
        "colab": {
          "base_uri": "https://localhost:8080/",
          "height": 518
        }
      },
      "source": [
        "p = torch.rand(10,25)\n",
        "p"
      ],
      "execution_count": 53,
      "outputs": [
        {
          "output_type": "execute_result",
          "data": {
            "text/plain": [
              "tensor([[0.9975, 0.4513, 0.9387, 0.2216, 0.4463, 0.0927, 0.9138, 0.3922, 0.5551,\n",
              "         0.1136, 0.5828, 0.6347, 0.8145, 0.6720, 0.2951, 0.3788, 0.9431, 0.7329,\n",
              "         0.9390, 0.8956, 0.4510, 0.8856, 0.4749, 0.7864, 0.0096],\n",
              "        [0.0236, 0.4165, 0.8399, 0.6424, 0.4806, 0.9758, 0.9965, 0.9026, 0.6327,\n",
              "         0.9722, 0.9688, 0.3611, 0.4789, 0.4607, 0.2289, 0.6511, 0.0773, 0.9800,\n",
              "         0.4741, 0.0938, 0.0907, 0.0661, 0.9122, 0.8580, 0.1296],\n",
              "        [0.2208, 0.8626, 0.6362, 0.3678, 0.3494, 0.3546, 0.0994, 0.2673, 0.7820,\n",
              "         0.1618, 0.8978, 0.3621, 0.7978, 0.1514, 0.7750, 0.4586, 0.5194, 0.6687,\n",
              "         0.1003, 0.6278, 0.4303, 0.6780, 0.5524, 0.6161, 0.9562],\n",
              "        [0.9992, 0.9872, 0.1520, 0.8446, 0.9212, 0.3684, 0.4109, 0.1314, 0.2488,\n",
              "         0.5029, 0.6111, 0.9466, 0.5188, 0.7287, 0.7468, 0.5620, 0.8053, 0.0737,\n",
              "         0.3708, 0.0446, 0.9322, 0.6194, 0.7732, 0.4407, 0.7904],\n",
              "        [0.1115, 0.7025, 0.7922, 0.7462, 0.4393, 0.8017, 0.1012, 0.3919, 0.5167,\n",
              "         0.5712, 0.5840, 0.9916, 0.9203, 0.1641, 0.3192, 0.8970, 0.4586, 0.9682,\n",
              "         0.3148, 0.6528, 0.2518, 0.5576, 0.4171, 0.3848, 0.1864],\n",
              "        [0.2518, 0.4047, 0.7209, 0.9652, 0.2055, 0.7805, 0.5095, 0.1013, 0.8816,\n",
              "         0.6293, 0.7763, 0.3939, 0.9331, 0.0501, 0.9545, 0.3471, 0.8500, 0.1129,\n",
              "         0.6892, 0.2572, 0.4205, 0.8046, 0.9242, 0.9494, 0.1098],\n",
              "        [0.0666, 0.9663, 0.0453, 0.7581, 0.0997, 0.9025, 0.0343, 0.4259, 0.7985,\n",
              "         0.9794, 0.7658, 0.5379, 0.0225, 0.4368, 0.8627, 0.7548, 0.6453, 0.4498,\n",
              "         0.3829, 0.1808, 0.5032, 0.1571, 0.6296, 0.8376, 0.6147],\n",
              "        [0.0626, 0.6391, 0.4551, 0.3335, 0.5142, 0.4502, 0.8848, 0.5883, 0.0082,\n",
              "         0.3325, 0.4586, 0.8648, 0.7208, 0.9652, 0.8884, 0.7402, 0.0967, 0.6407,\n",
              "         0.8321, 0.1952, 0.8427, 0.5124, 0.2076, 0.1054, 0.2215],\n",
              "        [0.4432, 0.3526, 0.1511, 0.4991, 0.4193, 0.8920, 0.1607, 0.6013, 0.7730,\n",
              "         0.8228, 0.9224, 0.6310, 0.6418, 0.1004, 0.2426, 0.1926, 0.7487, 0.6324,\n",
              "         0.5948, 0.4014, 0.0688, 0.8159, 0.4399, 0.8405, 0.5360],\n",
              "        [0.1417, 0.9752, 0.2429, 0.1139, 0.4048, 0.9701, 0.4533, 0.5655, 0.3700,\n",
              "         0.7482, 0.2461, 0.9687, 0.6638, 0.9392, 0.5428, 0.7065, 0.1363, 0.2564,\n",
              "         0.8758, 0.6386, 0.9892, 0.8938, 0.0253, 0.1341, 0.7705]])"
            ]
          },
          "metadata": {
            "tags": []
          },
          "execution_count": 53
        }
      ]
    },
    {
      "cell_type": "code",
      "metadata": {
        "id": "2vUvc8wOnBnR",
        "outputId": "673d3ceb-10fc-4408-cb99-6796cd1a1823",
        "colab": {
          "base_uri": "https://localhost:8080/",
          "height": 50
        }
      },
      "source": [
        "p[:,0]"
      ],
      "execution_count": 54,
      "outputs": [
        {
          "output_type": "execute_result",
          "data": {
            "text/plain": [
              "tensor([0.9975, 0.0236, 0.2208, 0.9992, 0.1115, 0.2518, 0.0666, 0.0626, 0.4432,\n",
              "        0.1417])"
            ]
          },
          "metadata": {
            "tags": []
          },
          "execution_count": 54
        }
      ]
    },
    {
      "cell_type": "code",
      "metadata": {
        "id": "iIUg4VFHnOlm",
        "outputId": "35ec237d-96d3-4566-8102-76917a59ed9f",
        "colab": {
          "base_uri": "https://localhost:8080/",
          "height": 67
        }
      },
      "source": [
        "p[0,:]"
      ],
      "execution_count": 55,
      "outputs": [
        {
          "output_type": "execute_result",
          "data": {
            "text/plain": [
              "tensor([0.9975, 0.4513, 0.9387, 0.2216, 0.4463, 0.0927, 0.9138, 0.3922, 0.5551,\n",
              "        0.1136, 0.5828, 0.6347, 0.8145, 0.6720, 0.2951, 0.3788, 0.9431, 0.7329,\n",
              "        0.9390, 0.8956, 0.4510, 0.8856, 0.4749, 0.7864, 0.0096])"
            ]
          },
          "metadata": {
            "tags": []
          },
          "execution_count": 55
        }
      ]
    },
    {
      "cell_type": "code",
      "metadata": {
        "id": "3VqwHHwDnUIx",
        "outputId": "c253e15f-7dad-4684-e997-06c7d75ea89e",
        "colab": {
          "base_uri": "https://localhost:8080/",
          "height": 100
        }
      },
      "source": [
        "#reshaping\n",
        "g = torch.arange(16)\n",
        "g_4x4 = g.view(4,4)\n",
        "display(g,g_4x4)"
      ],
      "execution_count": 68,
      "outputs": [
        {
          "output_type": "display_data",
          "data": {
            "text/plain": [
              "tensor([ 0,  1,  2,  3,  4,  5,  6,  7,  8,  9, 10, 11, 12, 13, 14, 15])"
            ]
          },
          "metadata": {
            "tags": []
          }
        },
        {
          "output_type": "display_data",
          "data": {
            "text/plain": [
              "tensor([[ 0,  1,  2,  3],\n",
              "        [ 4,  5,  6,  7],\n",
              "        [ 8,  9, 10, 11],\n",
              "        [12, 13, 14, 15]])"
            ]
          },
          "metadata": {
            "tags": []
          }
        }
      ]
    },
    {
      "cell_type": "code",
      "metadata": {
        "id": "vDW4hdHmoetr",
        "outputId": "046871ee-af6e-44a5-e8b7-b1f6dc1e9e70",
        "colab": {
          "base_uri": "https://localhost:8080/",
          "height": 33
        }
      },
      "source": [
        "g_4x4.shape"
      ],
      "execution_count": 69,
      "outputs": [
        {
          "output_type": "execute_result",
          "data": {
            "text/plain": [
              "torch.Size([4, 4])"
            ]
          },
          "metadata": {
            "tags": []
          },
          "execution_count": 69
        }
      ]
    },
    {
      "cell_type": "code",
      "metadata": {
        "id": "YJ9ljNehoy64",
        "outputId": "e7ddd15b-b294-4e3d-ec2e-0455e035a7be",
        "colab": {
          "base_uri": "https://localhost:8080/",
          "height": 84
        }
      },
      "source": [
        "#transposing\n",
        "g_4x4.t()"
      ],
      "execution_count": 70,
      "outputs": [
        {
          "output_type": "execute_result",
          "data": {
            "text/plain": [
              "tensor([[ 0,  4,  8, 12],\n",
              "        [ 1,  5,  9, 13],\n",
              "        [ 2,  6, 10, 14],\n",
              "        [ 3,  7, 11, 15]])"
            ]
          },
          "metadata": {
            "tags": []
          },
          "execution_count": 70
        }
      ]
    },
    {
      "cell_type": "code",
      "metadata": {
        "id": "-Fro_1LYpHvC",
        "outputId": "3447c9eb-ab29-4d59-e686-79887c41b1ac",
        "colab": {
          "base_uri": "https://localhost:8080/",
          "height": 67
        }
      },
      "source": [
        "#cat\n",
        "h = torch.arange(16)\n",
        "torch.cat((g,h), dim=0), torch.cat((g,h), dim=0).shape"
      ],
      "execution_count": 74,
      "outputs": [
        {
          "output_type": "execute_result",
          "data": {
            "text/plain": [
              "(tensor([ 0,  1,  2,  3,  4,  5,  6,  7,  8,  9, 10, 11, 12, 13, 14, 15,  0,  1,\n",
              "          2,  3,  4,  5,  6,  7,  8,  9, 10, 11, 12, 13, 14, 15]),\n",
              " torch.Size([32]))"
            ]
          },
          "metadata": {
            "tags": []
          },
          "execution_count": 74
        }
      ]
    },
    {
      "cell_type": "code",
      "metadata": {
        "id": "DkdM8oXpp6AO",
        "outputId": "817ed976-0655-4707-dbf3-b2f2d1de2dcb",
        "colab": {
          "base_uri": "https://localhost:8080/",
          "height": 150
        }
      },
      "source": [
        "torch.cat((g_4x4,g_4x4), dim=0), torch.cat((g_4x4,g_4x4), dim=0).shape"
      ],
      "execution_count": 78,
      "outputs": [
        {
          "output_type": "execute_result",
          "data": {
            "text/plain": [
              "(tensor([[ 0,  1,  2,  3],\n",
              "         [ 4,  5,  6,  7],\n",
              "         [ 8,  9, 10, 11],\n",
              "         [12, 13, 14, 15],\n",
              "         [ 0,  1,  2,  3],\n",
              "         [ 4,  5,  6,  7],\n",
              "         [ 8,  9, 10, 11],\n",
              "         [12, 13, 14, 15]]), torch.Size([8, 4]))"
            ]
          },
          "metadata": {
            "tags": []
          },
          "execution_count": 78
        }
      ]
    },
    {
      "cell_type": "code",
      "metadata": {
        "id": "spwG1_jxqGK_",
        "outputId": "67e6e71b-e9fb-4a72-dc7e-b8d627adda39",
        "colab": {
          "base_uri": "https://localhost:8080/",
          "height": 84
        }
      },
      "source": [
        "torch.cat((g_4x4,g_4x4), dim=1), torch.cat((g_4x4,g_4x4), dim=1).shape"
      ],
      "execution_count": 79,
      "outputs": [
        {
          "output_type": "execute_result",
          "data": {
            "text/plain": [
              "(tensor([[ 0,  1,  2,  3,  0,  1,  2,  3],\n",
              "         [ 4,  5,  6,  7,  4,  5,  6,  7],\n",
              "         [ 8,  9, 10, 11,  8,  9, 10, 11],\n",
              "         [12, 13, 14, 15, 12, 13, 14, 15]]), torch.Size([4, 8]))"
            ]
          },
          "metadata": {
            "tags": []
          },
          "execution_count": 79
        }
      ]
    },
    {
      "cell_type": "markdown",
      "metadata": {
        "id": "YztLVbv2qzeg"
      },
      "source": [
        "**.view(-1)**"
      ]
    },
    {
      "cell_type": "code",
      "metadata": {
        "id": "bSKTuMQaqbgG",
        "outputId": "b93ae4fb-1b74-4117-c865-8c23057e138f",
        "colab": {
          "base_uri": "https://localhost:8080/",
          "height": 50
        }
      },
      "source": [
        "#example 1\n",
        "z = torch.rand(2,5)\n",
        "z, z.shape"
      ],
      "execution_count": 84,
      "outputs": [
        {
          "output_type": "execute_result",
          "data": {
            "text/plain": [
              "(tensor([[0.5262, 0.1559, 0.2659, 0.0345, 0.2846],\n",
              "         [0.0609, 0.4717, 0.1036, 0.5935, 0.4798]]), torch.Size([2, 5]))"
            ]
          },
          "metadata": {
            "tags": []
          },
          "execution_count": 84
        }
      ]
    },
    {
      "cell_type": "code",
      "metadata": {
        "id": "LgG9gasOqoEk",
        "outputId": "744fe914-d07e-401b-ae22-12df7cdf7a86",
        "colab": {
          "base_uri": "https://localhost:8080/",
          "height": 50
        }
      },
      "source": [
        "z.view(-1), z.view(-1).shape"
      ],
      "execution_count": 83,
      "outputs": [
        {
          "output_type": "execute_result",
          "data": {
            "text/plain": [
              "(tensor([0.9037, 0.0071, 0.5688, 0.9799, 0.3975, 0.7288, 0.6553, 0.1237, 0.5349,\n",
              "         0.7215]), torch.Size([10]))"
            ]
          },
          "metadata": {
            "tags": []
          },
          "execution_count": 83
        }
      ]
    },
    {
      "cell_type": "code",
      "metadata": {
        "id": "S4tkMXg5qr4X"
      },
      "source": [
        "#example 2\n",
        "batch = 64\n",
        "r = torch.rand(batch, 2, 5)"
      ],
      "execution_count": 86,
      "outputs": []
    },
    {
      "cell_type": "code",
      "metadata": {
        "id": "7oY45IuZrUTD",
        "outputId": "90972ad3-6e6d-43d7-c020-4ed810a60b45",
        "colab": {
          "base_uri": "https://localhost:8080/",
          "height": 50
        }
      },
      "source": [
        "r.view(-1)[:15] #squezing all dimensions into one"
      ],
      "execution_count": 89,
      "outputs": [
        {
          "output_type": "execute_result",
          "data": {
            "text/plain": [
              "tensor([0.1961, 0.0538, 0.9380, 0.0438, 0.5737, 0.8180, 0.1725, 0.7969, 0.4531,\n",
              "        0.8746, 0.5595, 0.1797, 0.8964, 0.5974, 0.0431])"
            ]
          },
          "metadata": {
            "tags": []
          },
          "execution_count": 89
        }
      ]
    },
    {
      "cell_type": "code",
      "metadata": {
        "id": "nJpakNaTrZsk",
        "outputId": "5a3fe235-fe6f-4cee-a1c2-5f58a375ff1a",
        "colab": {
          "base_uri": "https://localhost:8080/",
          "height": 518
        }
      },
      "source": [
        "r.view(batch, -1)[:15] #squezing all dimensions BUT THE FIRST ONE"
      ],
      "execution_count": 90,
      "outputs": [
        {
          "output_type": "execute_result",
          "data": {
            "text/plain": [
              "tensor([[0.1961, 0.0538, 0.9380, 0.0438, 0.5737, 0.8180, 0.1725, 0.7969, 0.4531,\n",
              "         0.8746],\n",
              "        [0.5595, 0.1797, 0.8964, 0.5974, 0.0431, 0.4697, 0.8456, 0.3010, 0.2411,\n",
              "         0.3521],\n",
              "        [0.1709, 0.8058, 0.7429, 0.2759, 0.3005, 0.2221, 0.5262, 0.1565, 0.2865,\n",
              "         0.4456],\n",
              "        [0.3370, 0.6311, 0.9589, 0.0976, 0.9617, 0.9553, 0.5838, 0.8040, 0.0727,\n",
              "         0.6515],\n",
              "        [0.9103, 0.7744, 0.4789, 0.0942, 0.8348, 0.0238, 0.7141, 0.0031, 0.9146,\n",
              "         0.7944],\n",
              "        [0.4675, 0.9520, 0.4762, 0.4343, 0.0246, 0.1415, 0.0220, 0.4200, 0.6174,\n",
              "         0.0774],\n",
              "        [0.5393, 0.1087, 0.2149, 0.5553, 0.1501, 0.9440, 0.5860, 0.7761, 0.7429,\n",
              "         0.5524],\n",
              "        [0.3758, 0.6571, 0.9962, 0.0030, 0.7686, 0.3632, 0.5075, 0.7652, 0.4465,\n",
              "         0.5525],\n",
              "        [0.1348, 0.7830, 0.3349, 0.7700, 0.2068, 0.1775, 0.6746, 0.3636, 0.0506,\n",
              "         0.2310],\n",
              "        [0.4706, 0.4810, 0.4995, 0.9286, 0.3761, 0.3134, 0.1620, 0.9817, 0.3843,\n",
              "         0.4808],\n",
              "        [0.8659, 0.7148, 0.9621, 0.8035, 0.2965, 0.4406, 0.2687, 0.6596, 0.7766,\n",
              "         0.0967],\n",
              "        [0.2534, 0.8614, 0.1856, 0.8096, 0.9542, 0.9047, 0.2093, 0.2648, 0.3817,\n",
              "         0.8576],\n",
              "        [0.0714, 0.9101, 0.8213, 0.6136, 0.9838, 0.3784, 0.9338, 0.4482, 0.9775,\n",
              "         0.7069],\n",
              "        [0.2543, 0.8615, 0.9391, 0.2521, 0.5335, 0.9370, 0.5957, 0.6399, 0.1404,\n",
              "         0.8192],\n",
              "        [0.4785, 0.3627, 0.1721, 0.1230, 0.3742, 0.5499, 0.4312, 0.8645, 0.9167,\n",
              "         0.3862]])"
            ]
          },
          "metadata": {
            "tags": []
          },
          "execution_count": 90
        }
      ]
    },
    {
      "cell_type": "markdown",
      "metadata": {
        "id": "jgSpBlEfsV28"
      },
      "source": [
        "**.unsqueeze()**"
      ]
    },
    {
      "cell_type": "code",
      "metadata": {
        "id": "zjbroRmyrnlA",
        "outputId": "c23eb8eb-7747-44a9-dcb1-fef2462deec4",
        "colab": {
          "base_uri": "https://localhost:8080/",
          "height": 50
        }
      },
      "source": [
        "f = torch.arange(16)\n",
        "f, f.shape"
      ],
      "execution_count": 93,
      "outputs": [
        {
          "output_type": "execute_result",
          "data": {
            "text/plain": [
              "(tensor([ 0,  1,  2,  3,  4,  5,  6,  7,  8,  9, 10, 11, 12, 13, 14, 15]),\n",
              " torch.Size([16]))"
            ]
          },
          "metadata": {
            "tags": []
          },
          "execution_count": 93
        }
      ]
    },
    {
      "cell_type": "code",
      "metadata": {
        "id": "reqziMgJsaPJ",
        "outputId": "9171985f-d15b-48be-f0fc-7bce95ab5bc5",
        "colab": {
          "base_uri": "https://localhost:8080/",
          "height": 50
        }
      },
      "source": [
        "f.unsqueeze(0), f.unsqueeze(0).shape"
      ],
      "execution_count": 98,
      "outputs": [
        {
          "output_type": "execute_result",
          "data": {
            "text/plain": [
              "(tensor([[ 0,  1,  2,  3,  4,  5,  6,  7,  8,  9, 10, 11, 12, 13, 14, 15]]),\n",
              " torch.Size([1, 16]))"
            ]
          },
          "metadata": {
            "tags": []
          },
          "execution_count": 98
        }
      ]
    },
    {
      "cell_type": "code",
      "metadata": {
        "id": "AfSfSzMOshrY",
        "outputId": "797f7f50-f712-47a1-839a-1721ced214bd",
        "colab": {
          "base_uri": "https://localhost:8080/",
          "height": 284
        }
      },
      "source": [
        "f.unsqueeze(1), f.unsqueeze(1).shape"
      ],
      "execution_count": 96,
      "outputs": [
        {
          "output_type": "execute_result",
          "data": {
            "text/plain": [
              "(tensor([[ 0],\n",
              "         [ 1],\n",
              "         [ 2],\n",
              "         [ 3],\n",
              "         [ 4],\n",
              "         [ 5],\n",
              "         [ 6],\n",
              "         [ 7],\n",
              "         [ 8],\n",
              "         [ 9],\n",
              "         [10],\n",
              "         [11],\n",
              "         [12],\n",
              "         [13],\n",
              "         [14],\n",
              "         [15]]), torch.Size([16, 1]))"
            ]
          },
          "metadata": {
            "tags": []
          },
          "execution_count": 96
        }
      ]
    },
    {
      "cell_type": "code",
      "metadata": {
        "id": "BH2FVMVQsnTc"
      },
      "source": [
        ""
      ],
      "execution_count": null,
      "outputs": []
    }
  ]
}