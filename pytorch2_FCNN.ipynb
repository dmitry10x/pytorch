{
  "nbformat": 4,
  "nbformat_minor": 0,
  "metadata": {
    "colab": {
      "name": "pytorch2_FCNN.ipynb",
      "provenance": [],
      "collapsed_sections": []
    },
    "kernelspec": {
      "name": "python3",
      "display_name": "Python 3"
    }
  },
  "cells": [
    {
      "cell_type": "code",
      "metadata": {
        "id": "l431mKytFtyI"
      },
      "source": [
        "import torch\n",
        "import torch.nn as nn\n",
        "import torch.optim as optim\n",
        "import torch.nn.functional as F\n",
        "from torch.utils.data import DataLoader\n",
        "import torchvision.datasets as datasets\n",
        "import torchvision.transforms as transforms"
      ],
      "execution_count": 1,
      "outputs": []
    },
    {
      "cell_type": "markdown",
      "metadata": {
        "id": "sSb0hIqUG98Y"
      },
      "source": [
        "**Create fully connected neuralnet**"
      ]
    },
    {
      "cell_type": "code",
      "metadata": {
        "id": "2y0K-yesHBCT"
      },
      "source": [
        "class NN(nn.Module):\n",
        "  def __init__(self, input_size, num_classes):\n",
        "    super(NN, self).__init__()\n",
        "    self.fc1 = nn.Linear(input_size, 50)\n",
        "    self.fc2 = nn.Linear(50, num_classes)\n",
        "\n",
        "  def forward(self, x):\n",
        "    x = F.relu(self.fc1(x))\n",
        "    x = self.fc2(x)\n",
        "    return x"
      ],
      "execution_count": 63,
      "outputs": []
    },
    {
      "cell_type": "code",
      "metadata": {
        "id": "sgScS5EwLmsr"
      },
      "source": [
        "# Set device\n",
        "device = torch.device('cuda' if torch.cuda.is_available() else 'cpu')"
      ],
      "execution_count": 39,
      "outputs": []
    },
    {
      "cell_type": "code",
      "metadata": {
        "id": "FzmCc9otSLOw"
      },
      "source": [
        "# Hyperparameters\n",
        "input_size = 784 \n",
        "num_classes = 10 \n",
        "learning_rate = 0.001\n",
        "batch_size = 64\n",
        "num_epochs = 10"
      ],
      "execution_count": 64,
      "outputs": []
    },
    {
      "cell_type": "code",
      "metadata": {
        "id": "_HjD8HaHSNX3"
      },
      "source": [
        "# Load Data\n",
        "train_dataset = datasets.MNIST(root='dataset/', train=True, transform=transforms.ToTensor(), download=True)\n",
        "train_loader = DataLoader(dataset=train_dataset, batch_size=batch_size, shuffle=True)\n",
        "test_dataset = datasets.MNIST(root='dataset/', train=False, transform=transforms.ToTensor(), download=True)\n",
        "test_loader = DataLoader(dataset=test_dataset, batch_size=batch_size, shuffle=True)"
      ],
      "execution_count": null,
      "outputs": []
    },
    {
      "cell_type": "code",
      "metadata": {
        "id": "wthW4QeDSPud"
      },
      "source": [
        "# Initialize network\n",
        "model = NN(input_size=input_size, num_classes=num_classes).to(device)"
      ],
      "execution_count": 65,
      "outputs": []
    },
    {
      "cell_type": "code",
      "metadata": {
        "id": "iaArldzPT3CV",
        "outputId": "97081cf7-a02d-42e2-ea69-a983d3ab3e43",
        "colab": {
          "base_uri": "https://localhost:8080/",
          "height": 84
        }
      },
      "source": [
        "model"
      ],
      "execution_count": 50,
      "outputs": [
        {
          "output_type": "execute_result",
          "data": {
            "text/plain": [
              "NN(\n",
              "  (fc1): Linear(in_features=784, out_features=50, bias=True)\n",
              "  (fc2): Linear(in_features=50, out_features=10, bias=True)\n",
              ")"
            ]
          },
          "metadata": {
            "tags": []
          },
          "execution_count": 50
        }
      ]
    },
    {
      "cell_type": "code",
      "metadata": {
        "id": "nfFaTxDVUuDk"
      },
      "source": [
        "# Loss and optimizer\n",
        "criterion = nn.CrossEntropyLoss() \n",
        "optimizer = optim.Adam(model.parameters(), lr=learning_rate)"
      ],
      "execution_count": 66,
      "outputs": []
    },
    {
      "cell_type": "code",
      "metadata": {
        "id": "-lP7KHxKU5SI",
        "outputId": "bc8b4892-e530-4adb-df20-3f53da350d87",
        "colab": {
          "base_uri": "https://localhost:8080/",
          "height": 857
        }
      },
      "source": [
        "# Train Network\n",
        "for epoch in range(num_epochs):\n",
        "    for batch_idx, (data, targets) in enumerate(train_loader):\n",
        "        # Get data to cuda if possible\n",
        "        data = data.to(device=device)\n",
        "        targets = targets.to(device=device)\n",
        "        \n",
        "        # Get to correct shape\n",
        "        data = data.reshape(data.shape[0], -1)\n",
        "        \n",
        "        # forward\n",
        "        scores = model(data) \n",
        "        loss = criterion(scores, targets)\n",
        "        \n",
        "        # backward\n",
        "        optimizer.zero_grad()\n",
        "        loss.backward()\n",
        "        \n",
        "        # gradient descent or adam step\n",
        "        optimizer.step()\n",
        "        \n",
        "    print(f'EPOCH {epoch}')\n",
        "    check_accuracy(train_loader, model)\n",
        "    check_accuracy(test_loader, model)"
      ],
      "execution_count": 67,
      "outputs": [
        {
          "output_type": "stream",
          "text": [
            "EPOCH 0\n",
            "Checking accuracy on training data\n",
            "Got 55921 / 60000 with accuracy 93.20\n",
            "Checking accuracy on test data\n",
            "Got 9329 / 10000 with accuracy 93.29\n",
            "EPOCH 1\n",
            "Checking accuracy on training data\n",
            "Got 57022 / 60000 with accuracy 95.04\n",
            "Checking accuracy on test data\n",
            "Got 9473 / 10000 with accuracy 94.73\n",
            "EPOCH 2\n",
            "Checking accuracy on training data\n",
            "Got 57751 / 60000 with accuracy 96.25\n",
            "Checking accuracy on test data\n",
            "Got 9614 / 10000 with accuracy 96.14\n",
            "EPOCH 3\n",
            "Checking accuracy on training data\n",
            "Got 58090 / 60000 with accuracy 96.82\n",
            "Checking accuracy on test data\n",
            "Got 9645 / 10000 with accuracy 96.45\n",
            "EPOCH 4\n",
            "Checking accuracy on training data\n",
            "Got 58227 / 60000 with accuracy 97.05\n",
            "Checking accuracy on test data\n",
            "Got 9664 / 10000 with accuracy 96.64\n",
            "EPOCH 5\n",
            "Checking accuracy on training data\n",
            "Got 58609 / 60000 with accuracy 97.68\n",
            "Checking accuracy on test data\n",
            "Got 9699 / 10000 with accuracy 96.99\n",
            "EPOCH 6\n",
            "Checking accuracy on training data\n",
            "Got 58753 / 60000 with accuracy 97.92\n",
            "Checking accuracy on test data\n",
            "Got 9706 / 10000 with accuracy 97.06\n",
            "EPOCH 7\n",
            "Checking accuracy on training data\n",
            "Got 58886 / 60000 with accuracy 98.14\n",
            "Checking accuracy on test data\n",
            "Got 9694 / 10000 with accuracy 96.94\n",
            "EPOCH 8\n",
            "Checking accuracy on training data\n",
            "Got 59016 / 60000 with accuracy 98.36\n",
            "Checking accuracy on test data\n",
            "Got 9709 / 10000 with accuracy 97.09\n",
            "EPOCH 9\n",
            "Checking accuracy on training data\n",
            "Got 59004 / 60000 with accuracy 98.34\n",
            "Checking accuracy on test data\n",
            "Got 9692 / 10000 with accuracy 96.92\n"
          ],
          "name": "stdout"
        }
      ]
    },
    {
      "cell_type": "code",
      "metadata": {
        "id": "woYVWNhiVacQ"
      },
      "source": [
        "def check_accuracy(loader, model):\n",
        "    if loader.dataset.train:\n",
        "        print(\"Checking accuracy on training data\")\n",
        "    else:\n",
        "        print(\"Checking accuracy on test data\")\n",
        "        \n",
        "    num_correct = 0\n",
        "    num_samples = 0\n",
        "    model.eval()\n",
        "    \n",
        "    with torch.no_grad():\n",
        "        for x, y in loader:\n",
        "            x = x.to(device=device)\n",
        "            y = y.to(device=device)\n",
        "            x = x.reshape(x.shape[0], -1)\n",
        "            \n",
        "            scores = model(x)\n",
        "            _, predictions = scores.max(1)\n",
        "            num_correct += (predictions == y).sum()\n",
        "            num_samples += predictions.size(0)\n",
        "        \n",
        "        print(f'Got {num_correct} / {num_samples} with accuracy {float(num_correct)/float(num_samples)*100:.2f}') \n"
      ],
      "execution_count": 48,
      "outputs": []
    },
    {
      "cell_type": "code",
      "metadata": {
        "id": "UovU_g6RWZie"
      },
      "source": [
        ""
      ],
      "execution_count": null,
      "outputs": []
    }
  ]
}